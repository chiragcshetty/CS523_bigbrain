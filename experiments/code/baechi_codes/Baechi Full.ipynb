{
 "cells": [
  {
   "cell_type": "markdown",
   "id": "8663bc07",
   "metadata": {},
   "source": [
    "# Baechi Full"
   ]
  },
  {
   "cell_type": "code",
   "execution_count": 53,
   "id": "6b6673c0",
   "metadata": {},
   "outputs": [
    {
     "name": "stdout",
     "output_type": "stream",
     "text": [
      "The autoreload extension is already loaded. To reload it, use:\n",
      "  %reload_ext autoreload\n"
     ]
    }
   ],
   "source": [
    "import torch\n",
    "import torchvision\n",
    "from torchvision import models\n",
    "import time\n",
    "import networkx as nx\n",
    "from torch import optim, nn\n",
    "from importlib import reload\n",
    "import numpy as np\n",
    "import pickle\n",
    "\n",
    "import GPUtil\n",
    "\n",
    "import sys\n",
    "\n",
    "\n",
    "## Copy of Inceptionv3, slightly modified for recording intermeridates\n",
    "sys.path.append('/home/cshetty2/sct/pytorch')\n",
    "import reformated_models.inception_modified as inception_modified\n",
    "\n",
    "## Modified Alexnet, with a'factor' by which it can be made 'fat' \n",
    "import simple_model as sm\n",
    "import baechiTest_dummyModels as dm\n",
    "\n",
    "######## For profiler (some experiments. Not required) #################\n",
    "from torch.profiler import profile, record_function, ProfilerActivity\n",
    "\n",
    "\n",
    "## Placer libs of baechi\n",
    "sys.path.append('/home/cshetty2/sct')\n",
    "from placer.placer_lib import *\n",
    "\n",
    "import matplotlib.pyplot as plt\n",
    "\n",
    "######## For debug purposes ONLY ########\n",
    "import ctypes, gc\n",
    "import psutil, os\n",
    "\n",
    "### From https://discuss.pytorch.org/t/how-pytorch-releases-variable-garbage/7277\n",
    "def memReport():\n",
    "    for obj in gc.get_objects():\n",
    "        if torch.is_tensor(obj):\n",
    "            print(type(obj), obj.size())\n",
    "    \n",
    "def cpuStats():\n",
    "        print(sys.version)\n",
    "        print(psutil.cpu_percent())\n",
    "        print(psutil.virtual_memory())  # physical memory usage\n",
    "        pid = os.getpid()\n",
    "        py = psutil.Process(pid)\n",
    "        memoryUse = py.memory_info()[0] / 2. ** 30  # memory use in GB...I think\n",
    "        print('memory GB:', memoryUse)\n",
    "#########################################\n",
    "\n",
    "%matplotlib inline\n",
    "%load_ext autoreload\n",
    "%autoreload 2"
   ]
  },
  {
   "cell_type": "code",
   "execution_count": 54,
   "id": "90253e26",
   "metadata": {},
   "outputs": [],
   "source": [
    "from baechi_units_old import *"
   ]
  },
  {
   "cell_type": "code",
   "execution_count": 55,
   "id": "1585f60f",
   "metadata": {},
   "outputs": [],
   "source": [
    "##### Change this settings in bbaechi_units.py file\n",
    "# itype       = 'forward'  # help: forward/all -> Conside forward path only or both\n",
    "# prof_rounds = 40      # help: 'rounds for profiler'\n",
    "# prof_gpu_id = 3      # help: 'which gpu to place the profiler'\n",
    "# batch_size  = '128'   # help: 'batch_size'\n",
    "# gpu_num     = 3      # help: 'number of gpu to use'\n",
    "# sch         = 'sct'  # help: 'sct/etf/topo'\n",
    "\n",
    "# args = Args(itype, prof_rounds, prof_gpu_id, batch_size, gpu_num, sch)"
   ]
  },
  {
   "cell_type": "code",
   "execution_count": 56,
   "id": "16045e19",
   "metadata": {},
   "outputs": [
    {
     "name": "stdout",
     "output_type": "stream",
     "text": [
      "GPU: 0\n",
      "Memory Usage:\n",
      "Allocated: 0.0 GB\n",
      "Cached:    0.0 GB\n",
      "-----------\n",
      "GPU: 1\n",
      "Memory Usage:\n",
      "Allocated: 1.96911621 GB\n",
      "Cached:    1.9921875 GB\n",
      "-----------\n",
      "GPU: 2\n",
      "Memory Usage:\n",
      "Allocated: 1.26580811 GB\n",
      "Cached:    1.2890625 GB\n",
      "-----------\n",
      "GPU: 3\n",
      "Memory Usage:\n",
      "Allocated: 0.0 GB\n",
      "Cached:    1.92382812 GB\n",
      "-----------\n"
     ]
    }
   ],
   "source": [
    "print_gpu_memory()"
   ]
  },
  {
   "cell_type": "markdown",
   "id": "3575a8ec",
   "metadata": {},
   "source": [
    "# Settings of the experiment"
   ]
  },
  {
   "cell_type": "code",
   "execution_count": 57,
   "id": "6109aad7",
   "metadata": {},
   "outputs": [],
   "source": [
    "model_name = \"ParallelThreeLayer\"\n",
    "Nrun = 50 \n",
    "fct = 6\n",
    "run_type = \"forward\" \n",
    "#run_type = \"training\"\n",
    "repetable = 1"
   ]
  },
  {
   "cell_type": "code",
   "execution_count": 58,
   "id": "44be2cff",
   "metadata": {},
   "outputs": [],
   "source": [
    "if model_name == \"toyToyModel\":\n",
    "    model = sm.toyToyModel(factor=fct)\n",
    "    inp_size_single = (3, 299, 299)\n",
    "    opt_size = 1000\n",
    "\n",
    "if model_name == \"linearModel\":\n",
    "    model = sm.linearModel(factor=fct)\n",
    "    inp_size_single = (1, 10000)\n",
    "    opt_size = 1000\n",
    "\n",
    "if model_name == \"parallelToyModel\":\n",
    "    model = sm.parallelToyModel(factor=fct)\n",
    "    inp_size_single = (3, 299, 299)\n",
    "    opt_size = 1000\n",
    "\n",
    "if model_name == \"toyModel\":\n",
    "    model = sm.toyModel(factor=fct)\n",
    "    inp_size_single = (3, 299, 299)\n",
    "    opt_size = 1000\n",
    "\n",
    "if model_name == \"inception_v3\":\n",
    "    model = inception_modified.inception_v3(pretrained=True)\n",
    "    inp_size_single = (3, 299, 299)\n",
    "    opt_size = 1000\n",
    "\n",
    "if model_name == \"TallParallelModel\":\n",
    "    factor = fct\n",
    "    inp_size_single = (1, 512*factor)\n",
    "    model = dm.tallParallelModel(factor, repetable)\n",
    "    opt_size = 1000\n",
    "\n",
    "    \n",
    "if model_name == \"ParallelTwoLayer\":\n",
    "    factor = fct\n",
    "    inp_size_single = (1, int(512*factor))\n",
    "    model = dm.parallelTwoLayer(factor, repetable)\n",
    "    opt_size = 512*fct\n",
    "    \n",
    "if model_name == \"ParallelThreeLayer\":\n",
    "    factor = fct\n",
    "    inp_size_single = (1, int(512*factor))\n",
    "    model = dm.parallelThreeLayer(factor, repetable)\n",
    "    opt_size = 512*fct\n",
    "    \n",
    "if model_name == \"ParallelThreeLayerOld\":\n",
    "    factor = fct\n",
    "    inp_size_single = (1, int(512*factor))\n",
    "    model = dm.parallelThreeLayerOld(factor)\n",
    "    opt_size = 512*fct\n",
    "    "
   ]
  },
  {
   "cell_type": "code",
   "execution_count": 59,
   "id": "fce28135",
   "metadata": {},
   "outputs": [
    {
     "name": "stdout",
     "output_type": "stream",
     "text": [
      "GPU: 0\n",
      "Memory Usage:\n",
      "Allocated: 0.0 GB\n",
      "Cached:    0.0 GB\n",
      "-----------\n",
      "GPU: 1\n",
      "Memory Usage:\n",
      "Allocated: 1.96911621 GB\n",
      "Cached:    1.9921875 GB\n",
      "-----------\n",
      "GPU: 2\n",
      "Memory Usage:\n",
      "Allocated: 1.26580811 GB\n",
      "Cached:    1.2890625 GB\n",
      "-----------\n",
      "GPU: 3\n",
      "Memory Usage:\n",
      "Allocated: 0.0 GB\n",
      "Cached:    1.92382812 GB\n",
      "-----------\n"
     ]
    }
   ],
   "source": [
    "print_gpu_memory()"
   ]
  },
  {
   "cell_type": "markdown",
   "id": "3e1edb6e",
   "metadata": {},
   "source": [
    "## Single GPU Run"
   ]
  },
  {
   "cell_type": "code",
   "execution_count": 60,
   "id": "05411f6c",
   "metadata": {},
   "outputs": [],
   "source": [
    "single_run_gpu = 3\n",
    "inp_size = (int(args.batch_size),) + inp_size_single\n",
    "model = model.to(single_run_gpu)"
   ]
  },
  {
   "cell_type": "code",
   "execution_count": 61,
   "id": "5d8bc64b",
   "metadata": {},
   "outputs": [
    {
     "name": "stdout",
     "output_type": "stream",
     "text": [
      "Mean time taken: 3.912001848220825\n",
      "\n"
     ]
    }
   ],
   "source": [
    "if run_type == \"forward\":\n",
    "    times = []\n",
    "    with profile(activities=[ProfilerActivity.CPU, ProfilerActivity.CUDA]) as prof:\n",
    "        for _ in range(Nrun):\n",
    "            torch.cuda.synchronize(0); torch.cuda.synchronize(1); torch.cuda.synchronize(2)\n",
    "            if repetable == 1:\n",
    "                inp   = torch.ones(inp_size)\n",
    "            else:\n",
    "                inp   = torch.rand(inp_size)\n",
    "            start = time.time()\n",
    "            inp = inp.to(single_run_gpu)\n",
    "            output = model(inp)\n",
    "            torch.cuda.synchronize(0); torch.cuda.synchronize(1); torch.cuda.synchronize(2)\n",
    "            end = time.time()\n",
    "            #torch.cuda.empty_cache() #important to have this. Else output may seem correct inspite of timing mismatches\n",
    "            #print_mem(args.prof_gpu_id)\n",
    "            times.append(1000*(end-start))\n",
    "    prof.export_chrome_trace(\"trace_singlegpu.json\")\n",
    "    single_gpu_time = np.mean(times[10:])\n",
    "    print(\"Mean time taken:\", single_gpu_time)\n",
    "    print()\n"
   ]
  },
  {
   "cell_type": "code",
   "execution_count": 62,
   "id": "699da5d7",
   "metadata": {},
   "outputs": [],
   "source": [
    "if run_type == \"training\":\n",
    "\n",
    "    optimizer = optim.SGD(model.parameters(), lr = 0.0001); \n",
    "    criterion = nn.MSELoss()\n",
    "    dataset = torchvision.datasets.FakeData(\n",
    "        size= args.prof_rounds * int(args.batch_size),\n",
    "        image_size=inp_size_single,\n",
    "        num_classes=opt_size,\n",
    "        transform=torchvision.transforms.ToTensor())\n",
    "    data_loader = torch.utils.data.DataLoader(dataset, batch_size=int(args.batch_size))\n",
    "    result = []\n",
    "\n",
    "\n",
    "    times = []\n",
    "    with profile(activities=[ProfilerActivity.CPU, ProfilerActivity.CUDA]) as prof:\n",
    "        for batch_idx, (inp, oup) in enumerate(data_loader):\n",
    "            torch.cuda.synchronize(0);torch.cuda.synchronize(1);torch.cuda.synchronize(2);torch.cuda.synchronize(3)\n",
    "            labels = torch.randn(opt_size).to(single_run_gpu)\n",
    "            start = time.time()\n",
    "            inp = inp.to(single_run_gpu); \n",
    "            optimizer.zero_grad()\n",
    "            output = model(inp)\n",
    "            #torch.cuda.synchronize(0);torch.cuda.synchronize(1);torch.cuda.synchronize(2);torch.cuda.synchronize(3)\n",
    "            ######################### loss compute ################################################\n",
    "            loss = criterion(output, labels )\n",
    "            ##################################################################################\n",
    "            loss.backward(loss)\n",
    "            optimizer.step()\n",
    "            torch.cuda.synchronize(0);torch.cuda.synchronize(1);torch.cuda.synchronize(2);torch.cuda.synchronize(3)\n",
    "            end = time.time()\n",
    "            times.append(1000*(end-start))\n",
    "    prof.export_chrome_trace(\"trace_singlegpu.json\")\n",
    "    single_gpu_time = np.mean(times[10:])\n",
    "    print(\"Mean time taken:\", single_gpu_time)\n",
    "    print()\n"
   ]
  },
  {
   "cell_type": "code",
   "execution_count": 63,
   "id": "dcbc24de",
   "metadata": {},
   "outputs": [
    {
     "name": "stdout",
     "output_type": "stream",
     "text": [
      "tensor([[93312., 93312., 93312.,  ..., 93312., 93312., 93312.],\n",
      "        [93312., 93312., 93312.,  ..., 93312., 93312., 93312.],\n",
      "        [93312., 93312., 93312.,  ..., 93312., 93312., 93312.],\n",
      "        ...,\n",
      "        [93312., 93312., 93312.,  ..., 93312., 93312., 93312.],\n",
      "        [93312., 93312., 93312.,  ..., 93312., 93312., 93312.],\n",
      "        [93312., 93312., 93312.,  ..., 93312., 93312., 93312.]],\n",
      "       device='cuda:3', grad_fn=<AddmmBackward>)\n"
     ]
    }
   ],
   "source": [
    "print(output)"
   ]
  },
  {
   "cell_type": "code",
   "execution_count": 64,
   "id": "3c1a2886",
   "metadata": {},
   "outputs": [
    {
     "name": "stdout",
     "output_type": "stream",
     "text": [
      "GPU: 0\n",
      "Memory Usage:\n",
      "Allocated: 0.0 GB\n",
      "Cached:    0.0 GB\n",
      "-----------\n",
      "GPU: 1\n",
      "Memory Usage:\n",
      "Allocated: 1.96911621 GB\n",
      "Cached:    1.9921875 GB\n",
      "-----------\n",
      "GPU: 2\n",
      "Memory Usage:\n",
      "Allocated: 1.26580811 GB\n",
      "Cached:    1.2890625 GB\n",
      "-----------\n",
      "GPU: 3\n",
      "Memory Usage:\n",
      "Allocated: 0.81349182 GB\n",
      "Cached:    1.92578125 GB\n",
      "-----------\n",
      "GPU: 0\n",
      "Memory Usage:\n",
      "Allocated: 0.0 GB\n",
      "Cached:    0.0 GB\n",
      "-----------\n",
      "GPU: 1\n",
      "Memory Usage:\n",
      "Allocated: 1.96911621 GB\n",
      "Cached:    1.97070312 GB\n",
      "-----------\n",
      "GPU: 2\n",
      "Memory Usage:\n",
      "Allocated: 1.26580811 GB\n",
      "Cached:    1.26757812 GB\n",
      "-----------\n",
      "GPU: 3\n",
      "Memory Usage:\n",
      "Allocated: 0.0 GB\n",
      "Cached:    0.0 GB\n",
      "-----------\n"
     ]
    }
   ],
   "source": [
    "\n",
    "print_gpu_memory()\n",
    "del model\n",
    "del inp\n",
    "del output\n",
    "try:\n",
    "    del labels\n",
    "    del optimizer\n",
    "    del loss\n",
    "except: pass\n",
    "gc.collect()\n",
    "torch.cuda.empty_cache()\n",
    "print_gpu_memory()"
   ]
  },
  {
   "cell_type": "markdown",
   "id": "89f5661f",
   "metadata": {},
   "source": [
    "## Baechi Run"
   ]
  },
  {
   "cell_type": "code",
   "execution_count": 65,
   "id": "33806255",
   "metadata": {},
   "outputs": [],
   "source": [
    "if model_name == \"toyToyModel\":\n",
    "    model = sm.toyToyModel(factor=fct)\n",
    "    inp_size_single = (3, 299, 299)\n",
    "    opt_size = 1000\n",
    "\n",
    "if model_name == \"linearModel\":\n",
    "    model = sm.linearModel(factor=fct)\n",
    "    inp_size_single = (1, 10000)\n",
    "    opt_size = 1000\n",
    "\n",
    "if model_name == \"parallelToyModel\":\n",
    "    model = sm.parallelToyModel(factor=fct)\n",
    "    inp_size_single = (3, 299, 299)\n",
    "    opt_size = 1000\n",
    "\n",
    "if model_name == \"toyModel\":\n",
    "    model = sm.toyModel(factor=fct)\n",
    "    inp_size_single = (3, 299, 299)\n",
    "    opt_size = 1000\n",
    "\n",
    "if model_name == \"inception_v3\":\n",
    "    model = inception_modified.inception_v3(pretrained=True)\n",
    "    inp_size_single = (3, 299, 299)\n",
    "    opt_size = 1000\n",
    "\n",
    "if model_name == \"TallParallelModel\":\n",
    "    factor = fct\n",
    "    inp_size_single = (1, 512*factor)\n",
    "    model = dm.tallParallelModel(factor, repetable)\n",
    "    opt_size = 1000\n",
    "\n",
    "    \n",
    "if model_name == \"ParallelTwoLayer\":\n",
    "    factor = fct\n",
    "    inp_size_single = (1, int(512*factor))\n",
    "    model = dm.parallelTwoLayer(factor, repetable)\n",
    "    opt_size = 512*fct\n",
    "    \n",
    "if model_name == \"ParallelThreeLayer\":\n",
    "    factor = fct\n",
    "    inp_size_single = (1, int(512*factor))\n",
    "    model = dm.parallelThreeLayer(factor, repetable)\n",
    "    opt_size = 512*fct\n",
    "    \n",
    "if model_name == \"ParallelThreeLayerOld\":\n",
    "    factor = fct\n",
    "    inp_size_single = (1, int(512*factor))\n",
    "    model = dm.parallelThreeLayerOld(factor)\n",
    "    opt_size = 512*fct\n",
    "    "
   ]
  },
  {
   "cell_type": "code",
   "execution_count": 66,
   "id": "c01a6730",
   "metadata": {},
   "outputs": [],
   "source": [
    "inp_size = inp_size_single"
   ]
  },
  {
   "cell_type": "code",
   "execution_count": 67,
   "id": "42ef5138",
   "metadata": {},
   "outputs": [
    {
     "name": "stdout",
     "output_type": "stream",
     "text": [
      "Profiling started ********************\n",
      "--> Module name:  _squeezeLayer()\n",
      "--> Module name:  Linear(in_features=3072, out_features=12288, bias=True)\n",
      "--> Module name:  Linear(in_features=12288, out_features=3072, bias=True)\n",
      "--> Module name:  Linear(in_features=3072, out_features=3072, bias=True)\n",
      "--> Module name:  Linear(in_features=12288, out_features=3072, bias=True)\n",
      "--> Module name:  Linear(in_features=3072, out_features=3072, bias=True)\n",
      "--> Module name:  Linear(in_features=12288, out_features=3072, bias=True)\n",
      "--> Module name:  Linear(in_features=3072, out_features=3072, bias=True)\n",
      "--> Module name:  _concatenateLayer()\n",
      "--> Module name:  Linear(in_features=9216, out_features=3072, bias=True)\n",
      "--> Module name:  Linear(in_features=3072, out_features=3072, bias=True)\n",
      "make_dot started ********************\n",
      "Dealing with this variable: <AddmmBackward object at 0x7fdfe06d1198>\n",
      "Dealing with this variable: <AddmmBackward object at 0x7fdfb81aaa90>\n",
      "Dealing with this variable: <CatBackward object at 0x7fdfb81aaef0>\n",
      "Dealing with this variable: <AddmmBackward object at 0x7fdfb81bbcf8>\n",
      "Dealing with this variable: <AddmmBackward object at 0x7fdfb814ac88>\n",
      "Dealing with this variable: <AddmmBackward object at 0x7fdfb814a9b0>\n",
      "Dealing with this variable: <SqueezeBackward0 object at 0x7fdfb814a860>\n",
      "Dealing with this variable: <TBackward object at 0x7fdfb814ab00>\n",
      "Dealing with this variable: <TBackward object at 0x7fdfb814ad68>\n",
      "Dealing with this variable: <TBackward object at 0x7fdfb814ada0>\n",
      "Dealing with this variable: <AddmmBackward object at 0x7fdfb814ac18>\n",
      "Dealing with this variable: <AddmmBackward object at 0x7fdfb814a2e8>\n",
      "Dealing with this variable: <AddmmBackward object at 0x7fdfb814a9b0>\n",
      "Dealing with this variable: <TBackward object at 0x7fdfb814add8>\n",
      "Dealing with this variable: <TBackward object at 0x7fdfb814a748>\n",
      "Dealing with this variable: <AddmmBackward object at 0x7fdfb814a710>\n",
      "Dealing with this variable: <AddmmBackward object at 0x7fdfb814a6d8>\n",
      "Dealing with this variable: <AddmmBackward object at 0x7fdfb814a9b0>\n",
      "Dealing with this variable: <TBackward object at 0x7fdfb8154dd8>\n",
      "Dealing with this variable: <TBackward object at 0x7fdfb814a828>\n",
      "Dealing with this variable: <TBackward object at 0x7fdfb81aab70>\n",
      "Dealing with this variable: <TBackward object at 0x7fdfb81aa390>\n",
      "Sort topologically ********************\n",
      "Replacing sub module id ********************\n",
      "Filling in the edges ********************\n"
     ]
    }
   ],
   "source": [
    "return_graph, tester = build_graph(model, args.prof_gpu_id, args.prof_rounds, inp_size = inp_size)\n",
    "#available_devices = range(args.gpu_num)\n",
    "available_devices = [1,2]\n",
    "available_device_list = {k:device_list[k] for k in available_devices}\n",
    "DEVICE_GRAPH_MULTIPLE = create_device_graph(available_device_list)"
   ]
  },
  {
   "cell_type": "code",
   "execution_count": 68,
   "id": "0247c96f",
   "metadata": {},
   "outputs": [
    {
     "data": {
      "image/png": "[encoded data removed]",
      "text/plain": [
       "<Figure size 432x288 with 1 Axes>"
      ]
     },
     "metadata": {},
     "output_type": "display_data"
    }
   ],
   "source": [
    "nx.draw_networkx(return_graph, node_size=10, font_size=1)"
   ]
  },
  {
   "cell_type": "raw",
   "id": "0b53e2b1",
   "metadata": {},
   "source": [
    "with torch.no_grad():\n",
    "    placed_op_graph = m_sct(return_graph, DEVICE_GRAPH_MULTIPLE)\n",
    "copy_p(return_graph, tester)"
   ]
  },
  {
   "cell_type": "code",
   "execution_count": 69,
   "id": "8bcdcd7e",
   "metadata": {},
   "outputs": [
    {
     "name": "stderr",
     "output_type": "stream",
     "text": [
      "2021-11-11 17:44:07,380 - m_sct_v1:157 - INFO - Start LP solver.\n"
     ]
    },
    {
     "name": "stdout",
     "output_type": "stream",
     "text": [
      "Problem\n",
      "  Name                   :                 \n",
      "  Objective sense        : min             \n",
      "  Type                   : LO (linear optimization problem)\n",
      "  Constraints            : 78              \n",
      "  Cones                  : 0               \n",
      "  Scalar variables       : 24              \n",
      "  Matrix variables       : 0               \n",
      "  Integer variables      : 0               \n",
      "\n",
      "Optimizer started.\n",
      "Presolve started.\n",
      "Linear dependency checker started.\n",
      "Linear dependency checker terminated.\n",
      "Eliminator started.\n",
      "Freed constraints in eliminator : 5\n",
      "Eliminator terminated.\n",
      "Eliminator - tries                  : 1                 time                   : 0.00            \n",
      "Lin. dep.  - tries                  : 1                 time                   : 0.00            \n",
      "Lin. dep.  - number                 : 0               \n",
      "Presolve terminated. Time: 0.00    \n",
      "Problem\n",
      "  Name                   :                 \n",
      "  Objective sense        : min             \n",
      "  Type                   : LO (linear optimization problem)\n",
      "  Constraints            : 78              \n",
      "  Cones                  : 0               \n",
      "  Scalar variables       : 24              \n",
      "  Matrix variables       : 0               \n",
      "  Integer variables      : 0               \n",
      "\n",
      "Optimizer  - threads                : 16              \n",
      "Optimizer  - solved problem         : the dual        \n",
      "Optimizer  - Constraints            : 11\n",
      "Optimizer  - Cones                  : 0\n",
      "Optimizer  - Scalar variables       : 22                conic                  : 0               \n",
      "Optimizer  - Semi-definite variables: 0                 scalarized             : 0               \n",
      "Factor     - setup time             : 0.00              dense det. time        : 0.00            \n",
      "Factor     - ML order time          : 0.00              GP order time          : 0.00            \n",
      "Factor     - nonzeros before factor : 35                after factor           : 42              \n",
      "Factor     - dense dim.             : 0                 flops                  : 5.88e+02        \n",
      "ITE PFEAS    DFEAS    GFEAS    PRSTATUS   POBJ              DOBJ              MU       TIME  \n",
      "0   2.4e+00  3.0e+00  4.2e+00  1.00e+00   9.285608927e-01   8.077002482e+00   1.0e+00  0.01  \n",
      "1   2.2e+00  4.4e+00  2.3e+00  0.00e+00   3.697830811e+00   3.257587096e+00   3.4e+00  0.02  \n",
      "2   2.9e-01  5.8e-01  3.1e-01  1.27e+00   3.494219122e+00   3.446468156e+00   4.5e-01  0.02  \n",
      "3   1.2e-02  2.4e-02  1.3e-02  1.08e+00   3.442807869e+00   3.440799557e+00   1.9e-02  0.02  \n",
      "4   1.8e-06  3.6e-06  1.9e-06  1.00e+00   3.439696040e+00   3.439695701e+00   2.8e-06  0.02  \n",
      "5   1.8e-10  3.6e-10  1.9e-10  1.00e+00   3.439695490e+00   3.439695490e+00   2.8e-10  0.02  \n",
      "Basis identification started.\n",
      "Basis identification terminated. Time: 0.00\n",
      "Optimizer terminated. Time: 0.04    \n",
      "\n",
      "\n",
      "Interior-point solution summary\n",
      "  Problem status  : PRIMAL_AND_DUAL_FEASIBLE\n",
      "  Solution status : OPTIMAL\n",
      "  Primal.  obj: 3.4396954901e+00    nrm: 3e+00    Viol.  con: 5e-11    var: 0e+00  \n",
      "  Dual.    obj: 3.4396954901e+00    nrm: 1e+00    Viol.  con: 5e-11    var: 7e-11  \n",
      "\n",
      "Basic solution summary\n",
      "  Problem status  : PRIMAL_AND_DUAL_FEASIBLE\n",
      "  Solution status : OPTIMAL\n",
      "  Primal.  obj: 3.4396954901e+00    nrm: 3e+00    Viol.  con: 3e-10    var: 0e+00  \n",
      "  Dual.    obj: 3.4396954900e+00    nrm: 1e+00    Viol.  con: 1e-17    var: 1e-16  \n"
     ]
    },
    {
     "name": "stderr",
     "output_type": "stream",
     "text": [
      "2021-11-11 17:44:07,438 - m_sct_v1:162 - INFO - LP solver finished. Relaxed makespan soultion: 3.439695\n",
      "2021-11-11 17:44:07,439 - m_sct_v1:140 - INFO - Favorite child round threshold: 0.5\n",
      "2021-11-11 17:44:07,440 - m_sct:143 - INFO - # favorite child: 7\n",
      "2021-11-11 17:44:07,440 - m_sct:144 - INFO - # favorite child changes: 0\n",
      "2021-11-11 17:44:07,445 - m_sct:172 - INFO - SCT estimated runtime: 0.000004\n"
     ]
    }
   ],
   "source": [
    "placed_op_graph = m_sct(return_graph, DEVICE_GRAPH_MULTIPLE)\n",
    "copy_p(return_graph, tester)"
   ]
  },
  {
   "cell_type": "code",
   "execution_count": 70,
   "id": "84552b66",
   "metadata": {},
   "outputs": [
    {
     "name": "stdout",
     "output_type": "stream",
     "text": [
      "_squeezeLayer()\n",
      "1\n",
      "\n",
      "Linear(in_features=3072, out_features=12288, bias=True)\n",
      "1\n",
      "\n",
      "Linear(in_features=12288, out_features=3072, bias=True)\n",
      "1\n",
      "\n",
      "Linear(in_features=3072, out_features=3072, bias=True)\n",
      "1\n",
      "\n",
      "Linear(in_features=12288, out_features=3072, bias=True)\n",
      "2\n",
      "\n",
      "Linear(in_features=3072, out_features=3072, bias=True)\n",
      "2\n",
      "\n",
      "Linear(in_features=12288, out_features=3072, bias=True)\n",
      "1\n",
      "\n",
      "Linear(in_features=3072, out_features=3072, bias=True)\n",
      "1\n",
      "\n",
      "_concatenateLayer()\n",
      "2\n",
      "\n",
      "Linear(in_features=9216, out_features=3072, bias=True)\n",
      "2\n",
      "\n",
      "Linear(in_features=3072, out_features=3072, bias=True)\n",
      "2\n",
      "\n"
     ]
    }
   ],
   "source": [
    "first_gpu = -1\n",
    "for node_id in tester.sub_module_nodes:\n",
    "    print(tester.sub_module_nodes[node_id].module)\n",
    "    curr_gpu_id = tester.sub_module_nodes[node_id].p\n",
    "    print(curr_gpu_id)\n",
    "    if first_gpu < 0:\n",
    "        first_gpu = curr_gpu_id\n",
    "    print()\n",
    "final_gpu = curr_gpu_id"
   ]
  },
  {
   "cell_type": "code",
   "execution_count": 71,
   "id": "29868c06",
   "metadata": {},
   "outputs": [
    {
     "name": "stdout",
     "output_type": "stream",
     "text": [
      "Module:               _squeezeLayer()\n",
      "GPU:                  1\n",
      "Memory change:        0\n",
      "Layer size:           0\n",
      "Net memory occupied:  2114322432\n",
      "**************************************************\n",
      "Module:               Linear(in_features=3072, out_features=12288, bias=True)\n",
      "GPU:                  1\n",
      "Memory change:        302088192\n",
      "Layer size:           151044096\n",
      "Net memory occupied:  2416410624\n",
      "**************************************************\n",
      "Module:               Linear(in_features=12288, out_features=3072, bias=True)\n",
      "GPU:                  1\n",
      "Memory change:        302014464\n",
      "Layer size:           151007232\n",
      "Net memory occupied:  2718425088\n",
      "**************************************************\n",
      "Module:               Linear(in_features=3072, out_features=3072, bias=True)\n",
      "GPU:                  1\n",
      "Memory change:        75522048\n",
      "Layer size:           37761024\n",
      "Net memory occupied:  2793947136\n",
      "**************************************************\n",
      "Module:               Linear(in_features=12288, out_features=3072, bias=True)\n",
      "GPU:                  2\n",
      "Memory change:        302014464\n",
      "Layer size:           151007232\n",
      "Net memory occupied:  1661165568\n",
      "**************************************************\n",
      "Module:               Linear(in_features=3072, out_features=3072, bias=True)\n",
      "GPU:                  2\n",
      "Memory change:        75522048\n",
      "Layer size:           37761024\n",
      "Net memory occupied:  1736687616\n",
      "**************************************************\n",
      "Module:               Linear(in_features=12288, out_features=3072, bias=True)\n",
      "GPU:                  1\n",
      "Memory change:        302014464\n",
      "Layer size:           151007232\n",
      "Net memory occupied:  3095961600\n",
      "**************************************************\n",
      "Module:               Linear(in_features=3072, out_features=3072, bias=True)\n",
      "GPU:                  1\n",
      "Memory change:        75522048\n",
      "Layer size:           37761024\n",
      "Net memory occupied:  3171483648\n",
      "**************************************************\n",
      "Module:               _concatenateLayer()\n",
      "GPU:                  2\n",
      "Memory change:        0\n",
      "Layer size:           0\n",
      "Net memory occupied:  1736687616\n",
      "**************************************************\n",
      "Module:               Linear(in_features=9216, out_features=3072, bias=True)\n",
      "GPU:                  2\n",
      "Memory change:        226516992\n",
      "Layer size:           113258496\n",
      "Net memory occupied:  1963204608\n",
      "**************************************************\n",
      "Module:               Linear(in_features=3072, out_features=3072, bias=True)\n",
      "GPU:                  2\n",
      "Memory change:        75522048\n",
      "Layer size:           37761024\n",
      "Net memory occupied:  2038726656\n",
      "**************************************************\n"
     ]
    },
    {
     "data": {
      "text/plain": [
       "<baechi_units_old.Assign at 0x7fdfb80a9e80>"
      ]
     },
     "execution_count": 71,
     "metadata": {},
     "output_type": "execute_result"
    }
   ],
   "source": [
    "Assign(tester)\n",
    "#tester.model = tester.model.to(0)"
   ]
  },
  {
   "cell_type": "code",
   "execution_count": 72,
   "id": "dc852cf8",
   "metadata": {},
   "outputs": [
    {
     "data": {
      "text/plain": [
       "(32, 1, 3072)"
      ]
     },
     "execution_count": 72,
     "metadata": {},
     "output_type": "execute_result"
    }
   ],
   "source": [
    "inp_size = (int(args.batch_size),) + inp_size_single\n",
    "inp_size"
   ]
  },
  {
   "cell_type": "code",
   "execution_count": 73,
   "id": "b3a81473",
   "metadata": {},
   "outputs": [
    {
     "name": "stdout",
     "output_type": "stream",
     "text": [
      "Mean time taken: 3.7340283393859863\n",
      "\n"
     ]
    }
   ],
   "source": [
    "if run_type == \"forward\":\n",
    "    times = []\n",
    "    with profile(activities=[ProfilerActivity.CPU, ProfilerActivity.CUDA]) as prof1:\n",
    "        for _ in range(Nrun):\n",
    "            torch.cuda.synchronize(0); torch.cuda.synchronize(1); torch.cuda.synchronize(2)\n",
    "            if repetable == 1:\n",
    "                inp   = torch.ones(inp_size)\n",
    "            else:\n",
    "                inp   = torch.rand(inp_size)\n",
    "            start = time.time()\n",
    "            #with torch.no_grad():\n",
    "            inp = inp.to(first_gpu)  ### Code works even without this\n",
    "                                            ### However, not having this gives a time penalty\n",
    "                                            ### of ~6%\n",
    "            output = tester.model(inp)\n",
    "            torch.cuda.synchronize(0); torch.cuda.synchronize(1); torch.cuda.synchronize(2)\n",
    "            end = time.time()\n",
    "            #torch.cuda.empty_cache() #important to have this. Else output may seem correct inspite of timing mismatches\n",
    "            #print_mem(args.prof_gpu_id)\n",
    "            times.append(1000*(end-start))\n",
    "    prof1.export_chrome_trace(\"trace_baechi.json\")\n",
    "\n",
    "    baechi_time = np.mean(times[10:])\n",
    "    print(\"Mean time taken:\", baechi_time)\n",
    "    print()"
   ]
  },
  {
   "cell_type": "code",
   "execution_count": 74,
   "id": "3e51a3dd",
   "metadata": {},
   "outputs": [],
   "source": [
    "if run_type == \"training\":\n",
    "\n",
    "    optimizer = optim.SGD(model.parameters(), lr = 0.0001); \n",
    "    criterion = nn.MSELoss()\n",
    "    dataset = torchvision.datasets.FakeData(\n",
    "        size= args.prof_rounds * int(args.batch_size),\n",
    "        image_size=inp_size_single,\n",
    "        num_classes=opt_size,\n",
    "        transform=torchvision.transforms.ToTensor())\n",
    "    data_loader = torch.utils.data.DataLoader(dataset, batch_size=int(args.batch_size))\n",
    "\n",
    "\n",
    "    times = []\n",
    "    with profile(activities=[ProfilerActivity.CPU, ProfilerActivity.CUDA]) as prof1:\n",
    "        for batch_idx, (inp, oup) in enumerate(data_loader):\n",
    "            torch.cuda.synchronize(0);torch.cuda.synchronize(1);torch.cuda.synchronize(2);torch.cuda.synchronize(3)\n",
    "            labels = torch.randn(opt_size).to(final_gpu)\n",
    "            start = time.time()\n",
    "            inp = inp.to(first_gpu); \n",
    "            optimizer.zero_grad()\n",
    "            output = tester.model(inp)\n",
    "            #torch.cuda.synchronize(0);torch.cuda.synchronize(1);torch.cuda.synchronize(2);torch.cuda.synchronize(3)\n",
    "            ######################### loss compute ################################################\n",
    "            loss = criterion(output, labels )\n",
    "            ##################################################################################\n",
    "            loss.backward(loss)\n",
    "            optimizer.step()\n",
    "            torch.cuda.synchronize(0);torch.cuda.synchronize(1);torch.cuda.synchronize(2);torch.cuda.synchronize(3)\n",
    "            end = time.time()\n",
    "            torch.cuda.empty_cache() #important to have this. Else output may seem correct inspite of timing mismatches\n",
    "            times.append(1000*(end-start))\n",
    "    prof1.export_chrome_trace(\"trace_baechi.json\")\n",
    "\n",
    "    baechi_time = np.mean(times[10:])\n",
    "    print(\"Mean time taken:\", baechi_time)\n",
    "    print()\n"
   ]
  },
  {
   "cell_type": "code",
   "execution_count": 75,
   "id": "d5f21101",
   "metadata": {},
   "outputs": [
    {
     "name": "stdout",
     "output_type": "stream",
     "text": [
      "tensor([[93312., 93312., 93312.,  ..., 93312., 93312., 93312.],\n",
      "        [93312., 93312., 93312.,  ..., 93312., 93312., 93312.],\n",
      "        [93312., 93312., 93312.,  ..., 93312., 93312., 93312.],\n",
      "        ...,\n",
      "        [93312., 93312., 93312.,  ..., 93312., 93312., 93312.],\n",
      "        [93312., 93312., 93312.,  ..., 93312., 93312., 93312.],\n",
      "        [93312., 93312., 93312.,  ..., 93312., 93312., 93312.]],\n",
      "       device='cuda:2', grad_fn=<AddmmBackward>)\n"
     ]
    }
   ],
   "source": [
    "print(output)"
   ]
  },
  {
   "cell_type": "code",
   "execution_count": 76,
   "id": "d8f2b624",
   "metadata": {},
   "outputs": [
    {
     "name": "stdout",
     "output_type": "stream",
     "text": [
      "GPU: 0\n",
      "Memory Usage:\n",
      "Allocated: 0.0 GB\n",
      "Cached:    0.0 GB\n",
      "-----------\n",
      "GPU: 1\n",
      "Memory Usage:\n",
      "Allocated: 2.95623779 GB\n",
      "Cached:    2.9765625 GB\n",
      "-----------\n",
      "GPU: 2\n",
      "Memory Usage:\n",
      "Allocated: 1.90237427 GB\n",
      "Cached:    1.921875 GB\n",
      "-----------\n",
      "GPU: 3\n",
      "Memory Usage:\n",
      "Allocated: 0.0 GB\n",
      "Cached:    1.92382812 GB\n",
      "-----------\n",
      "GPU: 0\n",
      "Memory Usage:\n",
      "Allocated: 0.0 GB\n",
      "Cached:    0.0 GB\n",
      "-----------\n",
      "GPU: 1\n",
      "Memory Usage:\n",
      "Allocated: 2.95367432 GB\n",
      "Cached:    2.9765625 GB\n",
      "-----------\n",
      "GPU: 2\n",
      "Memory Usage:\n",
      "Allocated: 1.89871216 GB\n",
      "Cached:    1.921875 GB\n",
      "-----------\n",
      "GPU: 3\n",
      "Memory Usage:\n",
      "Allocated: 0.0 GB\n",
      "Cached:    1.92382812 GB\n",
      "-----------\n"
     ]
    }
   ],
   "source": [
    "print_gpu_memory()\n",
    "del model\n",
    "del inp\n",
    "del output\n",
    "try:\n",
    "    del labels\n",
    "    del optimizer\n",
    "    del loss\n",
    "except: pass\n",
    "gc.collect()\n",
    "print_gpu_memory()"
   ]
  },
  {
   "cell_type": "code",
   "execution_count": 77,
   "id": "dfecee8f",
   "metadata": {},
   "outputs": [
    {
     "name": "stdout",
     "output_type": "stream",
     "text": [
      "Run Type: forward\n",
      "Single GPU Mean execution time (ms):  3.912001848220825\n",
      "Baechi Execution Time (ms):  3.7340283393859863\n"
     ]
    }
   ],
   "source": [
    "print(\"Run Type:\", run_type)\n",
    "print(\"Single GPU Mean execution time (ms): \", single_gpu_time)\n",
    "print(\"Baechi Execution Time (ms): \",baechi_time)"
   ]
  },
  {
   "cell_type": "code",
   "execution_count": null,
   "id": "435baa4d",
   "metadata": {},
   "outputs": [],
   "source": []
  },
  {
   "cell_type": "code",
   "execution_count": null,
   "id": "1e28d6d8",
   "metadata": {},
   "outputs": [],
   "source": []
  },
  {
   "cell_type": "code",
   "execution_count": null,
   "id": "84743bb4",
   "metadata": {},
   "outputs": [],
   "source": []
  },
  {
   "cell_type": "code",
   "execution_count": null,
   "id": "8aadab0f",
   "metadata": {},
   "outputs": [],
   "source": []
  },
  {
   "cell_type": "code",
   "execution_count": null,
   "id": "da19427d",
   "metadata": {},
   "outputs": [],
   "source": []
  }
 ],
 "metadata": {
  "kernelspec": {
   "display_name": "Python 3",
   "language": "python",
   "name": "python3"
  },
  "language_info": {
   "codemirror_mode": {
    "name": "ipython",
    "version": 3
   },
   "file_extension": ".py",
   "mimetype": "text/x-python",
   "name": "python",
   "nbconvert_exporter": "python",
   "pygments_lexer": "ipython3",
   "version": "3.6.13"
  }
 },
 "nbformat": 4,
 "nbformat_minor": 5
}
